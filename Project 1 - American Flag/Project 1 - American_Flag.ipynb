{
 "cells": [
  {
   "cell_type": "markdown",
   "id": "dac36ee8-2189-4f02-977d-f39dacc39749",
   "metadata": {},
   "source": [
    "# Darw American Flag\n",
    "\n",
    "This script uses Python's turtle module to draw the American flag. \n",
    "The flag consists of 13 horizontal stripes alternating red and white, \n",
    "with a blue rectangle (the Union) in the upper left corner containing \n",
    "50 white five-pointed stars arranged in a 9x11 grid pattern. \n",
    "\n",
    "The script is structured as follows:\n",
    "1. A function to draw rectangles, used for the flag's stripes and the blue Union.\n",
    "2. A function to draw five-pointed stars, used for placing the stars within the Union.\n",
    "3. A main function that coordinates the drawing of the entire flag by calling the other two functions.\n",
    "\n",
    "The turtle module is utilized to create graphics in a window, and the flag is drawn step by step. \n",
    "After running the script, a graphical window will open displaying the complete flag. \n",
    "The drawing speed is set to a relatively fast pace, but it can be adjusted if needed.\n",
    "\n",
    "**Version: 0.1 <br>\n",
    "Author: Sun Yufei <br>\n",
    "Date: 2024-08-10**"
   ]
  },
  {
   "cell_type": "code",
   "execution_count": 2,
   "id": "03989040-0e8b-4160-8375-3374ef595c81",
   "metadata": {},
   "outputs": [],
   "source": [
    "import turtle"
   ]
  },
  {
   "cell_type": "markdown",
   "id": "f09ad0e0-8ca5-416b-9e0f-337418b0926a",
   "metadata": {},
   "source": [
    "**draw_rectangle()**: This function is responsible for drawing a filled rectangle with a specified size and color at a given position.\n",
    "It is used to draw the stripes and the blue rectangle of the flag."
   ]
  },
  {
   "cell_type": "code",
   "execution_count": 3,
   "id": "71e38c8e-05b9-4dab-a55b-df0211a41002",
   "metadata": {},
   "outputs": [],
   "source": [
    "def draw_rectangle(x, y, width, height, color):\n",
    "    \"\"\"\n",
    "    Draw a rectangle at a given position with specified width, height, and color.\n",
    "    \n",
    "    Parameters:\n",
    "    x (int): The x-coordinate of the top-left corner of the rectangle.\n",
    "    y (int): The y-coordinate of the top-left corner of the rectangle.\n",
    "    width (int): The width of the rectangle.\n",
    "    height (int): The height of the rectangle.\n",
    "    color (str): The fill color of the rectangle.\n",
    "    \"\"\"\n",
    "    turtle.penup()  # Lift the pen to move without drawing\n",
    "    turtle.goto(x, y)  # Move to the specified coordinates\n",
    "    turtle.pendown()  # Lower the pen to start drawing\n",
    "    turtle.pencolor(color)  # Set the pen color\n",
    "    turtle.fillcolor(color)  # Set the fill color\n",
    "    turtle.begin_fill()  # Begin filling the rectangle with color\n",
    "\n",
    "    # Draw the rectangle using two pairs of forward and left turns\n",
    "    for _ in range(2):\n",
    "        turtle.forward(width)\n",
    "        turtle.left(90)\n",
    "        turtle.forward(height)\n",
    "        turtle.left(90)\n",
    "\n",
    "    turtle.end_fill()  # End the filling process\n"
   ]
  },
  {
   "cell_type": "markdown",
   "id": "a5c50a8e-d625-4b2b-aacb-966ff7b76ae6",
   "metadata": {},
   "source": [
    "**draw_star()**: This function draws a single five-pointed star at the specified location. The star's size is determined by the radius parameter, which controls the length of the star's arms.\n"
   ]
  },
  {
   "cell_type": "code",
   "execution_count": 4,
   "id": "8fb786ab-77f2-4fef-96ba-9d5aec8edb0c",
   "metadata": {},
   "outputs": [],
   "source": [
    "def draw_star(x, y, radius):\n",
    "    \"\"\"\n",
    "    Draw a five-pointed star at a given position with a specified radiusrms.\n",
    "\n",
    "    Parameters:\n",
    "    x (int): The x-coordinate of the center of the star.\n",
    "    y (int): The y-coordinate of the center of the star.\n",
    "    radius (int): The length of each star arm.\n",
    "    \"\"\"\n",
    "    turtle.penup()  # Lift the pen to move without drawing\n",
    "    turtle.goto(x, y)  # Move to the specified coordinates\n",
    "    turtle.pendown()  # Lower the pen to start drawing\n",
    "    turtle.setheading(-72)  # Set the initial heading to -72 degrees\n",
    "    turtle.begin_fill()  # Begin filling the star with color\n",
    "\n",
    "    # Draw the star using five forward and right turns\n",
    "    for _ in range(5):\n",
    "        turtle.forward(radius)\n",
    "        turtle.right(144)  # Turn right by 144 degrees to form star points\n",
    "\n",
    "    turtle.end_fill()  # End the filling process\n"
   ]
  },
  {
   "cell_type": "markdown",
   "id": "55320206-0c2a-4f5f-93ac-107d03e08b75",
   "metadata": {},
   "source": [
    "**draw_american_flag()**: The main function that coordinates drawing the American flag. \n",
    "    It first draws the 13 stripes, then adds the blue rectangle in the top-left corner, \n",
    "    and finally places the 50 stars in a staggered grid pattern within the blue rectangle."
   ]
  },
  {
   "cell_type": "code",
   "execution_count": 5,
   "id": "2da11c5d-7597-4656-b193-33e8f1062c30",
   "metadata": {},
   "outputs": [],
   "source": [
    "def draw_american_flag():\n",
    "    \"\"\"\n",
    "    Main function to draw the American flag using turtle graphics.\n",
    "    \"\"\"\n",
    "    turtle.speed(10)  # Set the turtle drawing speed\n",
    "    turtle.penup()  # Lift the pen to move without drawing\n",
    "    x, y = -270, 180  # Initial top-left corner position for the flag\n",
    "    width, height = 540, 360  # Total width and height of the flag\n",
    "    stripe_height = height / 13  # Height of each stripe (13 stripes in total)\n",
    "\n",
    "    # Draw the 13 stripes (7 red and 6 white/light gray)\n",
    "    for i in range(13):\n",
    "        color = 'red' if i % 2 == 0 else 'light gray'  # Alternate between red and white\n",
    "        draw_rectangle(x, y - i * stripe_height, width, stripe_height, color)\n",
    "\n",
    "    # Define the dimensions and position of the blue rectangle (Union)\n",
    "    blue_width, blue_height = width * 2 / 5, height * 7 / 13\n",
    "    draw_rectangle(x, y - 6 * stripe_height, blue_width, blue_height, 'blue')\n",
    "\n",
    "    # Star settings for the Union\n",
    "    star_radius = 10  # Radius of each star\n",
    "    star_rows = 9  # Number of rows of stars\n",
    "    star_cols = 11  # Number of columns of stars\n",
    "    offset_x = blue_width / star_cols  # Horizontal distance between stars\n",
    "    offset_y = blue_height / star_rows  # Vertical distance between stars\n",
    "\n",
    "    turtle.color('white')  # Set the star color to white\n",
    "    # Draw the 50 stars (5 rows of 6 stars, 4 rows of 5 stars)\n",
    "    for row in range(star_rows):\n",
    "        for col in range(star_cols):\n",
    "            # Draw stars only at alternating positions in a staggered grid\n",
    "            if (row % 2 == 0 and col % 2 == 0) or (row % 2 == 1 and col % 2 == 1):\n",
    "                star_x = x + offset_x * (col + 0.3)  # Calculate the star's x position\n",
    "                star_y = y - 6 * stripe_height - offset_y * (row - 8.9)  # Calculate the star's y position\n",
    "                draw_star(star_x, star_y, star_radius)\n",
    "\n",
    "    turtle.hideturtle()  # Hide the turtle after drawing is complete\n",
    "    turtle.done()  # Finish the turtle graphics session\n"
   ]
  },
  {
   "cell_type": "code",
   "execution_count": 6,
   "id": "b4f4dc37-8019-466d-8985-ba192badd312",
   "metadata": {},
   "outputs": [
    {
     "ename": "Terminator",
     "evalue": "",
     "output_type": "error",
     "traceback": [
      "\u001b[1;31m---------------------------------------------------------------------------\u001b[0m",
      "\u001b[1;31mTerminator\u001b[0m                                Traceback (most recent call last)",
      "Cell \u001b[1;32mIn[6], line 1\u001b[0m\n\u001b[1;32m----> 1\u001b[0m \u001b[43mdraw_american_flag\u001b[49m\u001b[43m(\u001b[49m\u001b[43m)\u001b[49m\n",
      "Cell \u001b[1;32mIn[5], line 35\u001b[0m, in \u001b[0;36mdraw_american_flag\u001b[1;34m()\u001b[0m\n\u001b[0;32m     33\u001b[0m             star_x \u001b[38;5;241m=\u001b[39m x \u001b[38;5;241m+\u001b[39m offset_x \u001b[38;5;241m*\u001b[39m (col \u001b[38;5;241m+\u001b[39m \u001b[38;5;241m0.3\u001b[39m)  \u001b[38;5;66;03m# Calculate the star's x position\u001b[39;00m\n\u001b[0;32m     34\u001b[0m             star_y \u001b[38;5;241m=\u001b[39m y \u001b[38;5;241m-\u001b[39m \u001b[38;5;241m6\u001b[39m \u001b[38;5;241m*\u001b[39m stripe_height \u001b[38;5;241m-\u001b[39m offset_y \u001b[38;5;241m*\u001b[39m (row \u001b[38;5;241m-\u001b[39m \u001b[38;5;241m8.9\u001b[39m)  \u001b[38;5;66;03m# Calculate the star's y position\u001b[39;00m\n\u001b[1;32m---> 35\u001b[0m             \u001b[43mdraw_star\u001b[49m\u001b[43m(\u001b[49m\u001b[43mstar_x\u001b[49m\u001b[43m,\u001b[49m\u001b[43m \u001b[49m\u001b[43mstar_y\u001b[49m\u001b[43m,\u001b[49m\u001b[43m \u001b[49m\u001b[43mstar_radius\u001b[49m\u001b[43m)\u001b[49m\n\u001b[0;32m     37\u001b[0m turtle\u001b[38;5;241m.\u001b[39mhideturtle()  \u001b[38;5;66;03m# Hide the turtle after drawing is complete\u001b[39;00m\n\u001b[0;32m     38\u001b[0m turtle\u001b[38;5;241m.\u001b[39mdone()\n",
      "Cell \u001b[1;32mIn[4], line 19\u001b[0m, in \u001b[0;36mdraw_star\u001b[1;34m(x, y, radius)\u001b[0m\n\u001b[0;32m     17\u001b[0m \u001b[38;5;28;01mfor\u001b[39;00m _ \u001b[38;5;129;01min\u001b[39;00m \u001b[38;5;28mrange\u001b[39m(\u001b[38;5;241m5\u001b[39m):\n\u001b[0;32m     18\u001b[0m     turtle\u001b[38;5;241m.\u001b[39mforward(radius)\n\u001b[1;32m---> 19\u001b[0m     \u001b[43mturtle\u001b[49m\u001b[38;5;241;43m.\u001b[39;49m\u001b[43mright\u001b[49m\u001b[43m(\u001b[49m\u001b[38;5;241;43m144\u001b[39;49m\u001b[43m)\u001b[49m  \u001b[38;5;66;03m# Turn right by 144 degrees to form star points\u001b[39;00m\n\u001b[0;32m     21\u001b[0m turtle\u001b[38;5;241m.\u001b[39mend_fill()\n",
      "File \u001b[1;32m<string>:8\u001b[0m, in \u001b[0;36mright\u001b[1;34m(angle)\u001b[0m\n",
      "File \u001b[1;32mE:\\SoftwareInstallment2\\Anaconda\\lib\\turtle.py:1679\u001b[0m, in \u001b[0;36mTNavigator.right\u001b[1;34m(self, angle)\u001b[0m\n\u001b[0;32m   1660\u001b[0m \u001b[38;5;28;01mdef\u001b[39;00m \u001b[38;5;21mright\u001b[39m(\u001b[38;5;28mself\u001b[39m, angle):\n\u001b[0;32m   1661\u001b[0m \u001b[38;5;250m    \u001b[39m\u001b[38;5;124;03m\"\"\"Turn turtle right by angle units.\u001b[39;00m\n\u001b[0;32m   1662\u001b[0m \n\u001b[0;32m   1663\u001b[0m \u001b[38;5;124;03m    Aliases: right | rt\u001b[39;00m\n\u001b[1;32m   (...)\u001b[0m\n\u001b[0;32m   1677\u001b[0m \u001b[38;5;124;03m    337.0\u001b[39;00m\n\u001b[0;32m   1678\u001b[0m \u001b[38;5;124;03m    \"\"\"\u001b[39;00m\n\u001b[1;32m-> 1679\u001b[0m     \u001b[38;5;28;43mself\u001b[39;49m\u001b[38;5;241;43m.\u001b[39;49m\u001b[43m_rotate\u001b[49m\u001b[43m(\u001b[49m\u001b[38;5;241;43m-\u001b[39;49m\u001b[43mangle\u001b[49m\u001b[43m)\u001b[49m\n",
      "File \u001b[1;32mE:\\SoftwareInstallment2\\Anaconda\\lib\\turtle.py:3278\u001b[0m, in \u001b[0;36mRawTurtle._rotate\u001b[1;34m(self, angle)\u001b[0m\n\u001b[0;32m   3276\u001b[0m     \u001b[38;5;28;01mfor\u001b[39;00m _ \u001b[38;5;129;01min\u001b[39;00m \u001b[38;5;28mrange\u001b[39m(steps):\n\u001b[0;32m   3277\u001b[0m         \u001b[38;5;28mself\u001b[39m\u001b[38;5;241m.\u001b[39m_orient \u001b[38;5;241m=\u001b[39m \u001b[38;5;28mself\u001b[39m\u001b[38;5;241m.\u001b[39m_orient\u001b[38;5;241m.\u001b[39mrotate(delta)\n\u001b[1;32m-> 3278\u001b[0m         \u001b[38;5;28;43mself\u001b[39;49m\u001b[38;5;241;43m.\u001b[39;49m\u001b[43m_update\u001b[49m\u001b[43m(\u001b[49m\u001b[43m)\u001b[49m\n\u001b[0;32m   3279\u001b[0m \u001b[38;5;28mself\u001b[39m\u001b[38;5;241m.\u001b[39m_orient \u001b[38;5;241m=\u001b[39m neworient\n\u001b[0;32m   3280\u001b[0m \u001b[38;5;28mself\u001b[39m\u001b[38;5;241m.\u001b[39m_update()\n",
      "File \u001b[1;32mE:\\SoftwareInstallment2\\Anaconda\\lib\\turtle.py:2661\u001b[0m, in \u001b[0;36mRawTurtle._update\u001b[1;34m(self)\u001b[0m\n\u001b[0;32m   2659\u001b[0m     \u001b[38;5;28;01mreturn\u001b[39;00m\n\u001b[0;32m   2660\u001b[0m \u001b[38;5;28;01melif\u001b[39;00m screen\u001b[38;5;241m.\u001b[39m_tracing \u001b[38;5;241m==\u001b[39m \u001b[38;5;241m1\u001b[39m:\n\u001b[1;32m-> 2661\u001b[0m     \u001b[38;5;28;43mself\u001b[39;49m\u001b[38;5;241;43m.\u001b[39;49m\u001b[43m_update_data\u001b[49m\u001b[43m(\u001b[49m\u001b[43m)\u001b[49m\n\u001b[0;32m   2662\u001b[0m     \u001b[38;5;28mself\u001b[39m\u001b[38;5;241m.\u001b[39m_drawturtle()\n\u001b[0;32m   2663\u001b[0m     screen\u001b[38;5;241m.\u001b[39m_update()                  \u001b[38;5;66;03m# TurtleScreenBase\u001b[39;00m\n",
      "File \u001b[1;32mE:\\SoftwareInstallment2\\Anaconda\\lib\\turtle.py:2647\u001b[0m, in \u001b[0;36mRawTurtle._update_data\u001b[1;34m(self)\u001b[0m\n\u001b[0;32m   2646\u001b[0m \u001b[38;5;28;01mdef\u001b[39;00m \u001b[38;5;21m_update_data\u001b[39m(\u001b[38;5;28mself\u001b[39m):\n\u001b[1;32m-> 2647\u001b[0m     \u001b[38;5;28;43mself\u001b[39;49m\u001b[38;5;241;43m.\u001b[39;49m\u001b[43mscreen\u001b[49m\u001b[38;5;241;43m.\u001b[39;49m\u001b[43m_incrementudc\u001b[49m\u001b[43m(\u001b[49m\u001b[43m)\u001b[49m\n\u001b[0;32m   2648\u001b[0m     \u001b[38;5;28;01mif\u001b[39;00m \u001b[38;5;28mself\u001b[39m\u001b[38;5;241m.\u001b[39mscreen\u001b[38;5;241m.\u001b[39m_updatecounter \u001b[38;5;241m!=\u001b[39m \u001b[38;5;241m0\u001b[39m:\n\u001b[0;32m   2649\u001b[0m         \u001b[38;5;28;01mreturn\u001b[39;00m\n",
      "File \u001b[1;32mE:\\SoftwareInstallment2\\Anaconda\\lib\\turtle.py:1293\u001b[0m, in \u001b[0;36mTurtleScreen._incrementudc\u001b[1;34m(self)\u001b[0m\n\u001b[0;32m   1291\u001b[0m \u001b[38;5;28;01mif\u001b[39;00m \u001b[38;5;129;01mnot\u001b[39;00m TurtleScreen\u001b[38;5;241m.\u001b[39m_RUNNING:\n\u001b[0;32m   1292\u001b[0m     TurtleScreen\u001b[38;5;241m.\u001b[39m_RUNNING \u001b[38;5;241m=\u001b[39m \u001b[38;5;28;01mTrue\u001b[39;00m\n\u001b[1;32m-> 1293\u001b[0m     \u001b[38;5;28;01mraise\u001b[39;00m Terminator\n\u001b[0;32m   1294\u001b[0m \u001b[38;5;28;01mif\u001b[39;00m \u001b[38;5;28mself\u001b[39m\u001b[38;5;241m.\u001b[39m_tracing \u001b[38;5;241m>\u001b[39m \u001b[38;5;241m0\u001b[39m:\n\u001b[0;32m   1295\u001b[0m     \u001b[38;5;28mself\u001b[39m\u001b[38;5;241m.\u001b[39m_updatecounter \u001b[38;5;241m+\u001b[39m\u001b[38;5;241m=\u001b[39m \u001b[38;5;241m1\u001b[39m\n",
      "\u001b[1;31mTerminator\u001b[0m: "
     ]
    }
   ],
   "source": [
    "draw_american_flag()"
   ]
  }
 ],
 "metadata": {
  "kernelspec": {
   "display_name": "Python 3 (ipykernel)",
   "language": "python",
   "name": "python3"
  },
  "language_info": {
   "codemirror_mode": {
    "name": "ipython",
    "version": 3
   },
   "file_extension": ".py",
   "mimetype": "text/x-python",
   "name": "python",
   "nbconvert_exporter": "python",
   "pygments_lexer": "ipython3",
   "version": "3.9.18"
  }
 },
 "nbformat": 4,
 "nbformat_minor": 5
}
