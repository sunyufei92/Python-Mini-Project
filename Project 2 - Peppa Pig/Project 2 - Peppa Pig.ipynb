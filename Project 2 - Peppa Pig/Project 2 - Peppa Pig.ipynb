{
 "cells": [
  {
   "cell_type": "markdown",
   "id": "df2d5d1c-a070-40ec-8ffc-c6f1a9149351",
   "metadata": {},
   "source": [
    "# Peppa Pig Drawing using Python Turtle Graphics\n",
    "\n",
    "This notebook uses Python's Turtle graphics library to draw a simple representation of Peppa Pig, a popular children's cartoon character. The drawing is broken down into several components such as the nose, head, ears, eyes, cheeks, and mouth, each defined in separate functions.\n",
    "\n",
    "This project demonstrates:\n",
    "- Basic usage of the Turtle graphics library.\n",
    "- Drawing complex shapes using circles and arcs.\n",
    "- Organizing code into functions for better readability and reusability.\n",
    "- Setting up a drawing environment with customized pen size, speed, and color modes.\n",
    "\n",
    "To run this notebook, ensure you have Python installed with the Turtle module available. The drawing will be shown in a pop-up window."
   ]
  },
  {
   "cell_type": "markdown",
   "id": "06f2709a-c821-4014-9369-9302613f70aa",
   "metadata": {},
   "source": [
    "**Version: 0.1<br>\n",
    "Author: Sun Yufei<br>\n",
    "Date: 2024-08-13**"
   ]
  },
  {
   "cell_type": "code",
   "execution_count": 2,
   "id": "78d4499f-2ef2-43ae-95cd-6aba528056c6",
   "metadata": {},
   "outputs": [],
   "source": [
    "# Importing the Turtle graphics library\n",
    "from turtle import *"
   ]
  },
  {
   "cell_type": "markdown",
   "id": "e28ef58d-5402-4a26-801b-65a684acd19f",
   "metadata": {},
   "source": [
    "## Function to Draw the Nose\n",
    "This function draws the nose of Peppa Pig. The position and orientation of the nose are controlled by the Turtle's movement."
   ]
  },
  {
   "cell_type": "code",
   "execution_count": 3,
   "id": "08b0e516-65f4-4567-b370-798029cf9cd7",
   "metadata": {},
   "outputs": [],
   "source": [
    "def draw_nose(x, y):\n",
    "    \"\"\"Draw the nose\"\"\"\n",
    "    penup()\n",
    "    goto(x, y)  # Move turtle to the specified coordinates\n",
    "    pendown()\n",
    "    setheading(-30)  # Set the direction of the turtle\n",
    "    begin_fill()\n",
    "    a = 0.4\n",
    "    for i in range(120):\n",
    "        if 0 <= i < 30 or 60 <= i < 90:\n",
    "            a += 0.08  # Increase the step length\n",
    "            left(3)  # Turn left by 3 degrees\n",
    "            forward(a)  # Move forward by 'a' units\n",
    "        else:\n",
    "            a -= 0.08  # Decrease the step length\n",
    "            left(3)\n",
    "            forward(a)\n",
    "    end_fill()\n",
    "\n",
    "    # Draw the nostrils\n",
    "    penup()\n",
    "    setheading(90)\n",
    "    forward(25)\n",
    "    setheading(0)\n",
    "    forward(10)\n",
    "    pendown()\n",
    "    pencolor(255, 155, 192)\n",
    "    setheading(10)\n",
    "    begin_fill()\n",
    "    circle(5)\n",
    "    color(160, 82, 45)  # Brown color for the nostril\n",
    "    end_fill()\n",
    "\n",
    "    penup()\n",
    "    setheading(0)\n",
    "    forward(20)\n",
    "    pendown()\n",
    "    pencolor(255, 155, 192)\n",
    "    setheading(10)\n",
    "    begin_fill()\n",
    "    circle(5)\n",
    "    color(160, 82, 45)  # Brown color for the nostril\n",
    "    end_fill()"
   ]
  },
  {
   "cell_type": "markdown",
   "id": "a84cc491-4b55-45a8-b755-d837519511c6",
   "metadata": {},
   "source": [
    "## Function to Draw the Head\n",
    "This function draws the head of Peppa Pig using various circles and arcs."
   ]
  },
  {
   "cell_type": "code",
   "execution_count": 4,
   "id": "7a4c7ded-6eb9-4a95-a39c-5508b53e517b",
   "metadata": {},
   "outputs": [],
   "source": [
    "def draw_head(x, y):\n",
    "    \"\"\"Draw the head\"\"\"\n",
    "    color((255, 155, 192), \"pink\")  # Set fill color to pink\n",
    "    penup()\n",
    "    goto(x, y)\n",
    "    setheading(0)\n",
    "    pendown()\n",
    "    begin_fill()\n",
    "    setheading(180)\n",
    "    circle(300, -30)\n",
    "    circle(100, -60)\n",
    "    circle(80, -100)\n",
    "    circle(150, -20)\n",
    "    circle(60, -95)\n",
    "    setheading(161)\n",
    "    circle(-300, 15)\n",
    "    \n",
    "    # Draw a small part of the head with a loop\n",
    "    penup()\n",
    "    goto(-100, 100)\n",
    "    pendown()\n",
    "    setheading(-30)\n",
    "    a = 0.4\n",
    "    for i in range(60):\n",
    "        if 0 <= i < 30 or 60 <= i < 90:\n",
    "            a += 0.08\n",
    "            left(3)\n",
    "            forward(a)\n",
    "        else:\n",
    "            a -= 0.08\n",
    "            left(3)\n",
    "            forward(a)\n",
    "    end_fill()"
   ]
  },
  {
   "cell_type": "markdown",
   "id": "58bd253b-1079-4762-bcdd-78295c50ffdb",
   "metadata": {},
   "source": [
    "## Function to Draw the Ears\n",
    "This function draws Peppa Pig's ears. It uses circular movements to create the shapes."
   ]
  },
  {
   "cell_type": "code",
   "execution_count": 5,
   "id": "32b98204-2766-484b-81ec-b236875c3f20",
   "metadata": {},
   "outputs": [],
   "source": [
    "def draw_ears(x, y):\n",
    "    \"\"\"Draw the ears\"\"\"\n",
    "    color((255, 155, 192), \"pink\")\n",
    "    penup()\n",
    "    goto(x, y)\n",
    "    pendown()\n",
    "    begin_fill()\n",
    "    setheading(100)\n",
    "    circle(-50, 50)\n",
    "    circle(-10, 120)\n",
    "    circle(-50, 54)\n",
    "    end_fill()\n",
    "\n",
    "    # Draw the second ear\n",
    "    penup()\n",
    "    setheading(90)\n",
    "    forward(-12)\n",
    "    setheading(0)\n",
    "    forward(30)\n",
    "    pendown()\n",
    "    begin_fill()\n",
    "    setheading(100)\n",
    "    circle(-50, 50)\n",
    "    circle(-10, 120)\n",
    "    circle(-50, 56)\n",
    "    end_fill()"
   ]
  },
  {
   "cell_type": "markdown",
   "id": "a4221ca9-1cce-4b8f-a70d-4b85324a1a0b",
   "metadata": {},
   "source": [
    "## Function to Draw the Eyes\n",
    "This function draws the eyes of Peppa Pig, including the white part and the pupils."
   ]
  },
  {
   "cell_type": "code",
   "execution_count": 6,
   "id": "dea2be6b-1859-47aa-a8d7-e4dfc3b23e01",
   "metadata": {},
   "outputs": [],
   "source": [
    "def draw_eyes(x, y):\n",
    "    \"\"\"Draw the eyes\"\"\"\n",
    "    color((255, 155, 192), \"white\")\n",
    "    penup()\n",
    "    setheading(90)\n",
    "    forward(-20)\n",
    "    setheading(0)\n",
    "    forward(-95)\n",
    "    pendown()\n",
    "    begin_fill()\n",
    "    circle(15)  # Draw the white part of the eye\n",
    "    end_fill()\n",
    "\n",
    "    # Draw the pupil\n",
    "    color(\"black\")\n",
    "    penup()\n",
    "    setheading(90)\n",
    "    forward(12)\n",
    "    setheading(0)\n",
    "    forward(-3)\n",
    "    pendown()\n",
    "    begin_fill()\n",
    "    circle(3)  # Draw the black pupil\n",
    "    end_fill()\n",
    "\n",
    "    # Draw the second eye\n",
    "    color((255, 155, 192), \"white\")\n",
    "    penup()\n",
    "    setheading(90)\n",
    "    forward(-25)\n",
    "    setheading(0)\n",
    "    forward(40)\n",
    "    pendown()\n",
    "    begin_fill()\n",
    "    circle(15)\n",
    "    end_fill()\n",
    "\n",
    "    # Draw the second pupil\n",
    "    color(\"black\")\n",
    "    penup()\n",
    "    setheading(90)\n",
    "    forward(12)\n",
    "    setheading(0)\n",
    "    forward(-3)\n",
    "    pendown()\n",
    "    begin_fill()\n",
    "    circle(3)\n",
    "    end_fill()"
   ]
  },
  {
   "cell_type": "markdown",
   "id": "b9bcaac2-1dc2-436c-859e-64b143c4045a",
   "metadata": {},
   "source": [
    "## Function to Draw the Cheeks\n",
    "This function draws Peppa Pig's cheeks."
   ]
  },
  {
   "cell_type": "code",
   "execution_count": 7,
   "id": "d3678fea-fc5a-45c8-a2a0-352a97b17696",
   "metadata": {},
   "outputs": [],
   "source": [
    "def draw_cheek(x, y):\n",
    "    \"\"\"Draw the cheek\"\"\"\n",
    "    color((255, 155, 192))\n",
    "    penup()\n",
    "    goto(x, y)\n",
    "    pendown()\n",
    "    setheading(0)\n",
    "    begin_fill()\n",
    "    circle(30)\n",
    "    end_fill()"
   ]
  },
  {
   "cell_type": "markdown",
   "id": "1bd65f41-2241-4314-b469-25a6c204dc4c",
   "metadata": {},
   "source": [
    "## Function to Draw the Mouth\n",
    "This function draws the mouth of Peppa Pig."
   ]
  },
  {
   "cell_type": "code",
   "execution_count": 8,
   "id": "9441dbae-176a-4829-9f1c-0a7687aaeabf",
   "metadata": {},
   "outputs": [],
   "source": [
    "def draw_mouth(x, y):\n",
    "    \"\"\"Draw the mouth\"\"\"\n",
    "    color(239, 69, 19)\n",
    "    penup()\n",
    "    goto(x, y)\n",
    "    pendown()\n",
    "    setheading(-80)\n",
    "    circle(30, 40)\n",
    "    circle(40, 80)"
   ]
  },
  {
   "cell_type": "markdown",
   "id": "af28d3f7-b440-451a-b0c6-b1ddf93ae42c",
   "metadata": {},
   "source": [
    "## Setting Up the Drawing Environment\n",
    "This function sets up the environment, including pen size, speed, and window size."
   ]
  },
  {
   "cell_type": "code",
   "execution_count": 9,
   "id": "68155313-e20e-408c-8c7c-25715e2a0097",
   "metadata": {},
   "outputs": [],
   "source": [
    "def setup_environment():\n",
    "    \"\"\"Set up the environment\"\"\"\n",
    "    pensize(4)  # Set the thickness of the pen\n",
    "    hideturtle()  # Hide the turtle cursor\n",
    "    colormode(255)  # Use 255 RGB color mode\n",
    "    setup(840, 500)  # Set the window size\n",
    "    speed(10)  # Set drawing speed"
   ]
  },
  {
   "cell_type": "markdown",
   "id": "769b0298-ca0f-45c5-ba41-b28339d6bb1d",
   "metadata": {},
   "source": [
    "## Main Function\n",
    "This is the main function that calls all the drawing functions to render Peppa Pig."
   ]
  },
  {
   "cell_type": "code",
   "execution_count": 11,
   "id": "51dc191b-7e0a-4ca2-8f4e-83063e39fa11",
   "metadata": {},
   "outputs": [],
   "source": [
    "def main():\n",
    "    \"\"\"Main function\"\"\"\n",
    "    setup_environment() \n",
    "    draw_nose(-100, 100)\n",
    "    draw_head(-69, 167)\n",
    "    draw_ears(0, 160)\n",
    "    draw_eyes(0, 140)\n",
    "    draw_cheek(80, 10)\n",
    "    draw_mouth(-20, 30)\n",
    "    done()  # Finish the drawing"
   ]
  },
  {
   "cell_type": "markdown",
   "id": "59e4bc83-72db-446e-ada7-4898c7f7d33b",
   "metadata": {},
   "source": [
    "## Run the Drawing\n",
    "Running this cell will execute the main function to draw Peppa Pig."
   ]
  },
  {
   "cell_type": "code",
   "execution_count": 12,
   "id": "5ba18a6f-b268-455b-82db-e32188dd3d22",
   "metadata": {},
   "outputs": [
    {
     "ename": "Terminator",
     "evalue": "",
     "output_type": "error",
     "traceback": [
      "\u001b[1;31m---------------------------------------------------------------------------\u001b[0m",
      "\u001b[1;31mTerminator\u001b[0m                                Traceback (most recent call last)",
      "Cell \u001b[1;32mIn[12], line 1\u001b[0m\n\u001b[1;32m----> 1\u001b[0m \u001b[43mmain\u001b[49m\u001b[43m(\u001b[49m\u001b[43m)\u001b[49m\n",
      "Cell \u001b[1;32mIn[11], line 5\u001b[0m, in \u001b[0;36mmain\u001b[1;34m()\u001b[0m\n\u001b[0;32m      3\u001b[0m setup_environment() \n\u001b[0;32m      4\u001b[0m draw_nose(\u001b[38;5;241m-\u001b[39m\u001b[38;5;241m100\u001b[39m, \u001b[38;5;241m100\u001b[39m)\n\u001b[1;32m----> 5\u001b[0m \u001b[43mdraw_head\u001b[49m\u001b[43m(\u001b[49m\u001b[38;5;241;43m-\u001b[39;49m\u001b[38;5;241;43m69\u001b[39;49m\u001b[43m,\u001b[49m\u001b[43m \u001b[49m\u001b[38;5;241;43m167\u001b[39;49m\u001b[43m)\u001b[49m\n\u001b[0;32m      6\u001b[0m draw_ears(\u001b[38;5;241m0\u001b[39m, \u001b[38;5;241m160\u001b[39m)\n\u001b[0;32m      7\u001b[0m draw_eyes(\u001b[38;5;241m0\u001b[39m, \u001b[38;5;241m140\u001b[39m)\n",
      "Cell \u001b[1;32mIn[4], line 8\u001b[0m, in \u001b[0;36mdraw_head\u001b[1;34m(x, y)\u001b[0m\n\u001b[0;32m      6\u001b[0m setheading(\u001b[38;5;241m0\u001b[39m)\n\u001b[0;32m      7\u001b[0m pendown()\n\u001b[1;32m----> 8\u001b[0m \u001b[43mbegin_fill\u001b[49m\u001b[43m(\u001b[49m\u001b[43m)\u001b[49m\n\u001b[0;32m      9\u001b[0m setheading(\u001b[38;5;241m180\u001b[39m)\n\u001b[0;32m     10\u001b[0m circle(\u001b[38;5;241m300\u001b[39m, \u001b[38;5;241m-\u001b[39m\u001b[38;5;241m30\u001b[39m)\n",
      "File \u001b[1;32m<string>:5\u001b[0m, in \u001b[0;36mbegin_fill\u001b[1;34m()\u001b[0m\n",
      "\u001b[1;31mTerminator\u001b[0m: "
     ]
    }
   ],
   "source": [
    "main()"
   ]
  }
 ],
 "metadata": {
  "kernelspec": {
   "display_name": "Python 3 (ipykernel)",
   "language": "python",
   "name": "python3"
  },
  "language_info": {
   "codemirror_mode": {
    "name": "ipython",
    "version": 3
   },
   "file_extension": ".py",
   "mimetype": "text/x-python",
   "name": "python",
   "nbconvert_exporter": "python",
   "pygments_lexer": "ipython3",
   "version": "3.9.18"
  }
 },
 "nbformat": 4,
 "nbformat_minor": 5
}
