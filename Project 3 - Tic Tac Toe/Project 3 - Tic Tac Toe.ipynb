{
 "cells": [
  {
   "cell_type": "markdown",
   "id": "bdd70072-671d-4a8a-b436-f2ebc5dc24d3",
   "metadata": {},
   "source": [
    "# Tic-Tac-Toe Game using Python\r\n",
    "\r\n",
    "This project implements a simple console-based Tic-Tac-Toe game using Python. \r\n",
    "The game allows two players to take turns marking spaces on a 3x3 grid as either 'X' or 'O'. \r\n",
    "The game ends when one player successfully marks three consecutive spaces in a row, column, or diagonal, or when the grid is completely filled without a winner (resulting in a tie).\r\n",
    "\r\n",
    "The project demonstrates:\r\n",
    "- Basic usage of Python for game logic.\r\n",
    "- Using dictionaries to represent the game board.\r\n",
    "- Organizing code into functions for improved readability and maintainability.\r\n",
    "- Handling user input and controlling game flow in a loop until the game is over.\r\n",
    "- Simple win detection logic based on preset win conditions.\r\n",
    "\r\n",
    "To run this project, ensure you have Python installed. The game runs entirely in the console and does not require any additional libraries. \r\n",
    "When executed, the game prompts players to take turns entering their moves, and the result is displayed after every turn.\r\n",
    "\r\n",
    "This project is suitable for beginners who want to practice writing simple game logic in Python and improve their skills in structuring code."
   ]
  },
  {
   "cell_type": "markdown",
   "id": "869dd3f8-2322-4bf8-8d36-355fda7bfe1d",
   "metadata": {},
   "source": [
    "**Version: 0.1<br>\n",
    "Author: Sun Yufei<br>\n",
    "Date: 2024-08-17**"
   ]
  },
  {
   "cell_type": "code",
   "execution_count": 6,
   "id": "a5bd9603-5105-4db5-8428-0c976b5af2f0",
   "metadata": {},
   "outputs": [],
   "source": [
    "# Import os module\n",
    "# The os module provides a way of interacting with the operating system.\n",
    "# It allows for platform-independent operations like file handling, process management,\n",
    "# and system-related tasks (such as clearing the console screen in this case).\n",
    "import os"
   ]
  },
  {
   "cell_type": "code",
   "execution_count": 7,
   "id": "cb23ef92-14a7-4778-ab07-29501426bd6f",
   "metadata": {},
   "outputs": [],
   "source": [
    "def clear_screen():\r\n",
    "    \"\"\"\r\n",
    "    Clears the console screen for both Windows and Unix-based systems.\r\n",
    "\r\n",
    "    For Windows, it uses 'cls' command and for Unix-based systems, it uses 'clear'.\r\n",
    "    This helps in providing a cleaner user interface during the game.\r\n",
    "    \"\"\"\r\n",
    "    os.system('cls' if os.name == 'nt' else 'lear')\r\n"
   ]
  },
  {
   "cell_type": "code",
   "execution_count": 8,
   "id": "47decaf4-b4a1-4966-81f2-9ddd3d8bc7a4",
   "metadata": {},
   "outputs": [],
   "source": [
    "def print_board(board):\n",
    "    \"\"\"\n",
    "    Prints the current state of the Tic-Tac-Toe board.\n",
    "\n",
    "    The board is represented as a 3x3 grid using dictionary keys for positions. \n",
    "    This function visually represents the board's current state in the console.\n",
    "\n",
    "    Parameters:\n",
    "    board (dict): A dictionary representing the Tic-Tac-Toe board positions.\n",
    "    \"\"\"\n",
    "    print(board['TL'] + '|' + board['TM'] + '|' + board['TR'])\n",
    "    print('-+-+-')\n",
    "    print(board['ML'] + '|' + board['MM'] + '|' + board['MR'])\n",
    "    print('-+-+-')\n",
    "    print(board['BL'] + '|' + board['BM'] + '|' + board['BR'])"
   ]
  },
  {
   "cell_type": "code",
   "execution_count": 9,
   "id": "0d15bb9d-4e62-4426-8ee3-925347615277",
   "metadata": {},
   "outputs": [],
   "source": [
    "def check_winner(board, turn):\n",
    "    \"\"\"\n",
    "    Checks if the current player has won the game.\n",
    "\n",
    "    This function checks all possible winning combinations (rows, columns, diagonals)\n",
    "    to determine if the current player ('X' or 'O') has met any of the winning conditions.\n",
    "\n",
    "    Parameters:\n",
    "    board (dict): The current state of the Tic-Tac-Toe board.\n",
    "    turn (str): The current player's symbol ('X' or 'O').\n",
    "\n",
    "    Returns:\n",
    "    bool: True if the player has won, otherwise False.\n",
    "    \"\"\"\n",
    "    win_conditions = [\n",
    "        ['TL', 'TM', 'TR'], ['ML', 'MM', 'MR'], ['BL', 'BM', 'BR'],  # rows\n",
    "        ['TL', 'ML', 'BL'], ['TM', 'MM', 'BM'], ['TR', 'MR', 'BR'],  # columns\n",
    "        ['TL', 'MM', 'BR'], ['TR', 'MM', 'BL']  # diagonals\n",
    "    ]\n",
    "    \n",
    "    for condition in win_conditions:\n",
    "        if board[condition[0]] == board[condition[1]] == board[condition[2]] == turn:\n",
    "            return True\n",
    "    return False"
   ]
  },
  {
   "cell_type": "code",
   "execution_count": 10,
   "id": "578af07f-f365-46ad-b547-34c820f22d22",
   "metadata": {},
   "outputs": [],
   "source": [
    "def main():\n",
    "    \"\"\"\n",
    "    Main function to handle the game logic.\n",
    "\n",
    "    This function manages the main flow of the game including initializing the board,\n",
    "    alternating turns between players, checking for winners or ties, and handling the\n",
    "    player's input. It also gives the option to play multiple rounds of the game.\n",
    "    \"\"\"\n",
    "    play_again = True\n",
    "    while play_again:\n",
    "        # Initialize the board with empty spaces\n",
    "        board = {\n",
    "            'TL': ' ', 'TM': ' ', 'TR': ' ',\n",
    "            'ML': ' ', 'MM': ' ', 'MR': ' ',\n",
    "            'BL': ' ', 'BM': ' ', 'BR': ' '\n",
    "        }\n",
    "        turn = 'x'  # 'x' always starts the game\n",
    "        move_count = 0  # Keep track of the number of moves made\n",
    "        game_over = False\n",
    "        \n",
    "        clear_screen()  # Clear the screen before starting the game\n",
    "        print_board(board)  # Print the initial empty board\n",
    "        \n",
    "        while move_count < 9 and not game_over:\n",
    "            # Prompt the current player for their move\n",
    "            move = input(f\"Player {turn}'s turn. Enter position (e.g., TL, MM): \").upper()\n",
    "\n",
    "            # Ensure the selected position is valid and not already occupied\n",
    "            if move in board and board[move] == ' ':\n",
    "                board[move] = turn  # Update the board with the player's move\n",
    "                move_count += 1  # Increment the move counter\n",
    "\n",
    "                clear_screen()  # Clear the screen for the next move\n",
    "                print_board(board)  # Display the updated board\n",
    "\n",
    "                # Check if the current player has won the game\n",
    "                if check_winner(board, turn):\n",
    "                    print(f\"Player {turn} wins!\")\n",
    "                    game_over = True\n",
    "                else:\n",
    "                    # Switch turns between 'x' and 'o'\n",
    "                    turn = 'o' if turn == 'x' else 'x'\n",
    "            else:\n",
    "                print(\"Invalid move, try again.\")\n",
    "        \n",
    "        if not game_over:\n",
    "            print(\"It's a tie!\")  # If the game reaches 9 moves without a winner\n",
    "        \n",
    "        # Ask if the players want to play again\n",
    "        play_again = input('Do you want to play again? (yes|no): ').lower() == 'yes'"
   ]
  },
  {
   "cell_type": "code",
   "execution_count": null,
   "id": "5c5dac17-07e8-46db-b225-06db4b343f55",
   "metadata": {},
   "outputs": [
    {
     "name": "stdout",
     "output_type": "stream",
     "text": [
      " | | \n",
      "-+-+-\n",
      " | | \n",
      "-+-+-\n",
      " | | \n"
     ]
    },
    {
     "name": "stdin",
     "output_type": "stream",
     "text": [
      "Player x's turn. Enter position (e.g., TL, MM):  MM\n"
     ]
    },
    {
     "name": "stdout",
     "output_type": "stream",
     "text": [
      " | | \n",
      "-+-+-\n",
      " |x| \n",
      "-+-+-\n",
      " | | \n"
     ]
    },
    {
     "name": "stdin",
     "output_type": "stream",
     "text": [
      "Player o's turn. Enter position (e.g., TL, MM):  TL\n"
     ]
    },
    {
     "name": "stdout",
     "output_type": "stream",
     "text": [
      "o| | \n",
      "-+-+-\n",
      " |x| \n",
      "-+-+-\n",
      " | | \n"
     ]
    },
    {
     "name": "stdin",
     "output_type": "stream",
     "text": [
      "Player x's turn. Enter position (e.g., TL, MM):  TM\n"
     ]
    },
    {
     "name": "stdout",
     "output_type": "stream",
     "text": [
      "o|x| \n",
      "-+-+-\n",
      " |x| \n",
      "-+-+-\n",
      " | | \n"
     ]
    },
    {
     "name": "stdin",
     "output_type": "stream",
     "text": [
      "Player o's turn. Enter position (e.g., TL, MM):  RM\n"
     ]
    },
    {
     "name": "stdout",
     "output_type": "stream",
     "text": [
      "Invalid move, try again.\n"
     ]
    },
    {
     "name": "stdin",
     "output_type": "stream",
     "text": [
      "Player o's turn. Enter position (e.g., TL, MM):  BM\n"
     ]
    },
    {
     "name": "stdout",
     "output_type": "stream",
     "text": [
      "o|x| \n",
      "-+-+-\n",
      " |x| \n",
      "-+-+-\n",
      " |o| \n"
     ]
    }
   ],
   "source": [
    "# execute the main function\n",
    "main()"
   ]
  },
  {
   "cell_type": "code",
   "execution_count": null,
   "id": "10451e88-cf4b-4518-9b16-ae7f0f8d1af3",
   "metadata": {},
   "outputs": [],
   "source": []
  }
 ],
 "metadata": {
  "kernelspec": {
   "display_name": "Python 3 (ipykernel)",
   "language": "python",
   "name": "python3"
  },
  "language_info": {
   "codemirror_mode": {
    "name": "ipython",
    "version": 3
   },
   "file_extension": ".py",
   "mimetype": "text/x-python",
   "name": "python",
   "nbconvert_exporter": "python",
   "pygments_lexer": "ipython3",
   "version": "3.9.18"
  }
 },
 "nbformat": 4,
 "nbformat_minor": 5
}
